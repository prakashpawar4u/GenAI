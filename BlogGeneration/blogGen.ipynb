{
 "cells": [
  {
   "cell_type": "code",
   "execution_count": 1,
   "metadata": {},
   "outputs": [],
   "source": [
    "import streamlit as st\n",
    "from langchain.prompts import PromptTemplate\n",
    "from langchain.llms import CTransformers"
   ]
  },
  {
   "cell_type": "code",
   "execution_count": 4,
   "metadata": {},
   "outputs": [],
   "source": [
    "## Function To get response from LLAma 2 model\n",
    "import pprint\n",
    "def getLLamaresponse(input_text,no_words,blog_style):\n",
    "\n",
    "    ### LLama2 model\n",
    "    llm=CTransformers(model='models/llama-2-7b-chat.ggmlv3.q8_0.bin',\n",
    "                      model_type='llama',\n",
    "                      config={'max_new_tokens':256,\n",
    "                              'temperature':0.01})\n",
    "    \n",
    "    ## Prompt Template\n",
    "\n",
    "    template=\"\"\"\n",
    "        Write a blog for {blog_style} job profile for a topic {input_text}\n",
    "        within {no_words} words.\n",
    "            \"\"\"\n",
    "    \n",
    "    prompt=PromptTemplate(input_variables=[\"blog_style\",\"input_text\",'no_words'],\n",
    "                          template=template)\n",
    "    \n",
    "    ## Generate the ressponse from the LLama 2 model\n",
    "    response=llm(prompt.format(blog_style=blog_style,input_text=input_text,no_words=no_words))\n",
    "    print(response)\n",
    "    #return response\n"
   ]
  },
  {
   "cell_type": "code",
   "execution_count": 5,
   "metadata": {},
   "outputs": [
    {
     "name": "stdout",
     "output_type": "stream",
     "text": [
      "\n",
      "        Title: Python Programming Language - A Revolution in Data Science and Machine Learning\n",
      "\n",
      "        Introduction:\n",
      "Python is one of the most popular programming languages used in data science, machine learning, web development, and more. Its simplicity, flexibility, and versatility make it an ideal choice for researchers who want to analyze large datasets, build models, and automate tasks efficiently. In this blog, we will explore the features and applications of Python in research, and why it's a must-have tool for any researcher.\n",
      "\n",
      "        Features:\n",
      "Python has several features that make it an ideal language for researchers. Its syntax is easy to learn and understand, making it accessible to beginners. It also has a vast number of libraries and frameworks that simplify data analysis, visualization, and machine learning tasks. Some of the most popular Python libraries used in research include NumPy, pandas, scikit-learn, and TensorFlow. These libraries provide efficient data structures, functions, and algorithms for working with large datasets, as well as tools for building and training machine learning models.\n",
      "\n",
      "        Applications:\n",
      "Python is widely used in various fields of research, including physics, biology, chemistry, and social sciences.\n"
     ]
    }
   ],
   "source": [
    "input_text = \"Generate a blog on python\"\n",
    "no_words = 200\n",
    "blog_style = 'Researchers'\n",
    "\n",
    "getLLamaresponse(input_text,no_words,blog_style)"
   ]
  },
  {
   "cell_type": "code",
   "execution_count": null,
   "metadata": {},
   "outputs": [],
   "source": []
  }
 ],
 "metadata": {
  "kernelspec": {
   "display_name": "openEnv",
   "language": "python",
   "name": "python3"
  },
  "language_info": {
   "codemirror_mode": {
    "name": "ipython",
    "version": 3
   },
   "file_extension": ".py",
   "mimetype": "text/x-python",
   "name": "python",
   "nbconvert_exporter": "python",
   "pygments_lexer": "ipython3",
   "version": "3.9.19"
  }
 },
 "nbformat": 4,
 "nbformat_minor": 2
}
