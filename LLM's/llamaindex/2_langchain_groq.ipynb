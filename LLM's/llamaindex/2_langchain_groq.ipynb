{
 "cells": [
  {
   "cell_type": "code",
   "execution_count": 6,
   "metadata": {},
   "outputs": [
    {
     "name": "stdout",
     "output_type": "stream",
     "text": [
      "INFO:sentence_transformers.SentenceTransformer:Load pretrained SentenceTransformer: BAAI/bge-small-en-v1.5\n",
      "Load pretrained SentenceTransformer: BAAI/bge-small-en-v1.5\n",
      "Load pretrained SentenceTransformer: BAAI/bge-small-en-v1.5\n",
      "INFO:sentence_transformers.SentenceTransformer:2 prompts are loaded, with the keys: ['query', 'text']\n",
      "2 prompts are loaded, with the keys: ['query', 'text']\n",
      "2 prompts are loaded, with the keys: ['query', 'text']\n"
     ]
    },
    {
     "name": "stderr",
     "output_type": "stream",
     "text": [
      "Batches: 100%|██████████| 1/1 [00:00<00:00,  1.04it/s]\n",
      "Batches: 100%|██████████| 1/1 [00:00<00:00,  1.10it/s]\n",
      "Batches: 100%|██████████| 1/1 [00:00<00:00,  1.12it/s]\n",
      "Batches: 100%|██████████| 1/1 [00:00<00:00,  1.08it/s]\n",
      "Batches: 100%|██████████| 1/1 [00:00<00:00,  1.06it/s]\n",
      "Batches: 100%|██████████| 1/1 [00:01<00:00,  1.22s/it]\n",
      "Batches: 100%|██████████| 1/1 [00:01<00:00,  1.23s/it]\n",
      "Batches: 100%|██████████| 1/1 [00:01<00:00,  1.25s/it]\n",
      "Batches: 100%|██████████| 1/1 [00:01<00:00,  1.23s/it]\n",
      "Batches: 100%|██████████| 1/1 [00:01<00:00,  1.34s/it]\n",
      "Batches: 100%|██████████| 1/1 [00:01<00:00,  1.22s/it]\n",
      "Batches: 100%|██████████| 1/1 [00:01<00:00,  1.28s/it]\n",
      "Batches: 100%|██████████| 1/1 [00:01<00:00,  1.22s/it]\n",
      "Batches: 100%|██████████| 1/1 [00:01<00:00,  1.25s/it]\n",
      "Batches: 100%|██████████| 1/1 [00:01<00:00,  1.21s/it]\n",
      "Batches: 100%|██████████| 1/1 [00:01<00:00,  1.18s/it]\n",
      "Batches: 100%|██████████| 1/1 [00:01<00:00,  1.19s/it]\n",
      "Batches: 100%|██████████| 1/1 [00:01<00:00,  1.19s/it]\n",
      "Batches: 100%|██████████| 1/1 [00:01<00:00,  1.19s/it]\n",
      "Batches: 100%|██████████| 1/1 [00:01<00:00,  1.17s/it]\n",
      "Batches: 100%|██████████| 1/1 [00:01<00:00,  1.16s/it]\n",
      "Batches: 100%|██████████| 1/1 [00:01<00:00,  1.19s/it]\n",
      "Batches: 100%|██████████| 1/1 [00:01<00:00,  1.17s/it]\n",
      "Batches: 100%|██████████| 1/1 [00:01<00:00,  1.18s/it]\n",
      "Batches: 100%|██████████| 1/1 [00:01<00:00,  1.30s/it]\n",
      "Batches: 100%|██████████| 1/1 [00:01<00:00,  1.17s/it]\n",
      "Batches: 100%|██████████| 1/1 [00:01<00:00,  1.21s/it]\n",
      "Batches: 100%|██████████| 1/1 [00:01<00:00,  1.22s/it]\n",
      "Batches: 100%|██████████| 1/1 [00:01<00:00,  1.18s/it]\n",
      "Batches: 100%|██████████| 1/1 [00:01<00:00,  1.24s/it]\n",
      "Batches: 100%|██████████| 1/1 [00:01<00:00,  1.23s/it]\n",
      "Batches: 100%|██████████| 1/1 [00:01<00:00,  1.43s/it]\n",
      "Batches: 100%|██████████| 1/1 [00:01<00:00,  1.35s/it]\n",
      "Batches: 100%|██████████| 1/1 [00:01<00:00,  1.25s/it]\n",
      "Batches: 100%|██████████| 1/1 [00:01<00:00,  1.18s/it]\n",
      "Batches: 100%|██████████| 1/1 [00:01<00:00,  1.25s/it]\n",
      "Batches: 100%|██████████| 1/1 [00:01<00:00,  1.27s/it]\n",
      "Batches: 100%|██████████| 1/1 [00:01<00:00,  1.35s/it]\n",
      "Batches: 100%|██████████| 1/1 [00:01<00:00,  1.24s/it]\n",
      "Batches: 100%|██████████| 1/1 [00:01<00:00,  1.27s/it]\n",
      "Batches: 100%|██████████| 1/1 [00:01<00:00,  1.33s/it]\n",
      "Batches: 100%|██████████| 1/1 [00:01<00:00,  1.41s/it]\n",
      "Batches: 100%|██████████| 1/1 [00:01<00:00,  1.27s/it]\n",
      "Batches: 100%|██████████| 1/1 [00:01<00:00,  1.29s/it]\n",
      "Batches: 100%|██████████| 1/1 [00:01<00:00,  1.23s/it]\n",
      "Batches: 100%|██████████| 1/1 [00:01<00:00,  1.23s/it]\n",
      "Batches: 100%|██████████| 1/1 [00:01<00:00,  1.27s/it]\n",
      "Batches: 100%|██████████| 1/1 [00:01<00:00,  1.25s/it]\n",
      "Batches: 100%|██████████| 1/1 [00:01<00:00,  1.27s/it]\n",
      "Batches: 100%|██████████| 1/1 [00:01<00:00,  1.26s/it]\n",
      "Batches: 100%|██████████| 1/1 [00:01<00:00,  1.32s/it]\n",
      "Batches: 100%|██████████| 1/1 [00:01<00:00,  1.22s/it]\n",
      "Batches: 100%|██████████| 1/1 [00:01<00:00,  1.23s/it]\n",
      "Batches: 100%|██████████| 1/1 [00:01<00:00,  1.24s/it]\n",
      "Batches: 100%|██████████| 1/1 [00:01<00:00,  1.31s/it]\n",
      "Batches: 100%|██████████| 1/1 [00:01<00:00,  1.23s/it]\n",
      "Batches: 100%|██████████| 1/1 [00:01<00:00,  1.23s/it]\n",
      "Batches: 100%|██████████| 1/1 [00:01<00:00,  1.21s/it]\n",
      "Batches: 100%|██████████| 1/1 [00:01<00:00,  1.24s/it]\n",
      "Batches: 100%|██████████| 1/1 [00:01<00:00,  1.23s/it]\n",
      "Batches: 100%|██████████| 1/1 [00:01<00:00,  1.22s/it]\n",
      "Batches: 100%|██████████| 1/1 [00:01<00:00,  1.21s/it]\n",
      "Batches: 100%|██████████| 1/1 [00:01<00:00,  1.19s/it]\n",
      "Batches: 100%|██████████| 1/1 [00:01<00:00,  1.19s/it]\n",
      "Batches: 100%|██████████| 1/1 [00:01<00:00,  1.21s/it]\n",
      "Batches: 100%|██████████| 1/1 [00:01<00:00,  1.20s/it]\n",
      "Batches: 100%|██████████| 1/1 [00:01<00:00,  1.20s/it]\n",
      "Batches: 100%|██████████| 1/1 [00:01<00:00,  1.28s/it]\n",
      "Batches: 100%|██████████| 1/1 [00:01<00:00,  1.30s/it]\n",
      "Batches: 100%|██████████| 1/1 [00:01<00:00,  1.29s/it]\n",
      "Batches: 100%|██████████| 1/1 [00:01<00:00,  1.30s/it]\n",
      "Batches: 100%|██████████| 1/1 [00:01<00:00,  1.27s/it]\n",
      "Batches: 100%|██████████| 1/1 [00:01<00:00,  1.31s/it]\n",
      "Batches: 100%|██████████| 1/1 [00:01<00:00,  1.31s/it]\n",
      "Batches: 100%|██████████| 1/1 [00:01<00:00,  1.29s/it]\n",
      "Batches: 100%|██████████| 1/1 [00:01<00:00,  1.31s/it]\n",
      "Batches: 100%|██████████| 1/1 [00:01<00:00,  1.31s/it]\n",
      "Batches: 100%|██████████| 1/1 [00:01<00:00,  1.32s/it]\n",
      "Batches: 100%|██████████| 1/1 [00:01<00:00,  1.32s/it]\n",
      "Batches: 100%|██████████| 1/1 [00:01<00:00,  1.30s/it]\n",
      "Batches: 100%|██████████| 1/1 [00:01<00:00,  1.28s/it]\n",
      "Batches: 100%|██████████| 1/1 [00:01<00:00,  1.31s/it]\n",
      "Batches: 100%|██████████| 1/1 [00:01<00:00,  1.33s/it]\n",
      "Batches: 100%|██████████| 1/1 [00:01<00:00,  1.33s/it]\n",
      "Batches: 100%|██████████| 1/1 [00:01<00:00,  1.33s/it]\n",
      "Batches: 100%|██████████| 1/1 [00:01<00:00,  1.34s/it]\n",
      "Batches: 100%|██████████| 1/1 [00:01<00:00,  1.33s/it]\n",
      "Batches: 100%|██████████| 1/1 [00:01<00:00,  1.34s/it]\n",
      "Batches: 100%|██████████| 1/1 [00:01<00:00,  1.33s/it]\n",
      "Batches: 100%|██████████| 1/1 [00:01<00:00,  1.33s/it]\n",
      "Batches: 100%|██████████| 1/1 [00:01<00:00,  1.34s/it]\n",
      "Batches: 100%|██████████| 1/1 [00:01<00:00,  1.35s/it]\n",
      "Batches: 100%|██████████| 1/1 [00:01<00:00,  1.37s/it]\n",
      "Batches: 100%|██████████| 1/1 [00:01<00:00,  1.38s/it]\n",
      "Batches: 100%|██████████| 1/1 [00:01<00:00,  1.38s/it]\n",
      "Batches: 100%|██████████| 1/1 [00:01<00:00,  1.37s/it]\n",
      "Batches: 100%|██████████| 1/1 [00:01<00:00,  1.33s/it]\n",
      "Batches: 100%|██████████| 1/1 [00:01<00:00,  1.34s/it]\n",
      "Batches: 100%|██████████| 1/1 [00:01<00:00,  1.35s/it]\n",
      "Batches: 100%|██████████| 1/1 [00:01<00:00,  1.42s/it]\n",
      "Batches: 100%|██████████| 1/1 [00:01<00:00,  1.35s/it]\n",
      "Batches: 100%|██████████| 1/1 [00:01<00:00,  1.34s/it]\n",
      "Batches: 100%|██████████| 1/1 [00:01<00:00,  1.35s/it]\n",
      "Batches: 100%|██████████| 1/1 [00:01<00:00,  1.34s/it]\n",
      "Batches: 100%|██████████| 1/1 [00:01<00:00,  1.37s/it]\n",
      "Batches: 100%|██████████| 1/1 [00:01<00:00,  1.38s/it]\n",
      "Batches: 100%|██████████| 1/1 [00:01<00:00,  1.38s/it]\n",
      "Batches: 100%|██████████| 1/1 [00:01<00:00,  1.36s/it]\n",
      "Batches: 100%|██████████| 1/1 [00:01<00:00,  1.35s/it]\n",
      "Batches: 100%|██████████| 1/1 [00:01<00:00,  1.37s/it]\n",
      "Batches: 100%|██████████| 1/1 [00:01<00:00,  1.35s/it]\n",
      "Batches: 100%|██████████| 1/1 [00:01<00:00,  1.37s/it]\n",
      "Batches: 100%|██████████| 1/1 [00:01<00:00,  1.37s/it]\n",
      "Batches: 100%|██████████| 1/1 [00:01<00:00,  1.41s/it]\n",
      "Batches: 100%|██████████| 1/1 [00:01<00:00,  1.37s/it]\n",
      "Batches: 100%|██████████| 1/1 [00:01<00:00,  1.37s/it]\n",
      "Batches: 100%|██████████| 1/1 [00:01<00:00,  1.38s/it]\n",
      "Batches: 100%|██████████| 1/1 [00:01<00:00,  1.38s/it]\n",
      "Batches: 100%|██████████| 1/1 [00:01<00:00,  1.37s/it]\n",
      "Batches: 100%|██████████| 1/1 [00:01<00:00,  1.49s/it]\n",
      "Batches: 100%|██████████| 1/1 [00:01<00:00,  1.56s/it]\n",
      "Batches: 100%|██████████| 1/1 [00:01<00:00,  1.47s/it]\n",
      "Batches: 100%|██████████| 1/1 [00:01<00:00,  1.42s/it]\n",
      "Batches: 100%|██████████| 1/1 [00:01<00:00,  1.39s/it]\n",
      "Batches: 100%|██████████| 1/1 [00:01<00:00,  1.40s/it]\n",
      "Batches: 100%|██████████| 1/1 [00:01<00:00,  1.37s/it]\n",
      "Batches: 100%|██████████| 1/1 [00:01<00:00,  1.37s/it]\n",
      "Batches: 100%|██████████| 1/1 [00:01<00:00,  1.39s/it]\n",
      "Batches: 100%|██████████| 1/1 [00:01<00:00,  1.32s/it]\n",
      "Batches: 100%|██████████| 1/1 [00:01<00:00,  1.36s/it]\n",
      "Batches: 100%|██████████| 1/1 [00:01<00:00,  1.37s/it]\n",
      "Batches: 100%|██████████| 1/1 [00:01<00:00,  1.37s/it]\n",
      "Batches: 100%|██████████| 1/1 [00:01<00:00,  1.40s/it]\n",
      "Batches: 100%|██████████| 1/1 [00:01<00:00,  1.36s/it]\n",
      "Batches: 100%|██████████| 1/1 [00:01<00:00,  1.41s/it]\n",
      "Batches: 100%|██████████| 1/1 [00:01<00:00,  1.39s/it]\n",
      "Batches: 100%|██████████| 1/1 [00:01<00:00,  1.51s/it]\n",
      "Batches: 100%|██████████| 1/1 [00:01<00:00,  1.46s/it]\n",
      "Batches: 100%|██████████| 1/1 [00:01<00:00,  1.32s/it]\n",
      "Batches: 100%|██████████| 1/1 [00:00<00:00, 22.42it/s]\n"
     ]
    },
    {
     "name": "stdout",
     "output_type": "stream",
     "text": [
      "INFO:httpx:HTTP Request: POST https://api.groq.com/openai/v1/chat/completions \"HTTP/1.1 200 OK\"\n",
      "HTTP Request: POST https://api.groq.com/openai/v1/chat/completions \"HTTP/1.1 200 OK\"\n",
      "HTTP Request: POST https://api.groq.com/openai/v1/chat/completions \"HTTP/1.1 200 OK\"\n",
      "There is no information provided about the author's childhood or what they did growing up.\n"
     ]
    }
   ],
   "source": [
    "#Working with Chatgroq & llama3 model\n",
    "from langchain_groq import ChatGroq\n",
    "import logging\n",
    "import sys\n",
    " \n",
    "logging.basicConfig(stream=sys.stdout, level=logging.INFO)\n",
    "logging.getLogger().addHandler(logging.StreamHandler(stream=sys.stdout))\n",
    " \n",
    "from llama_index.core import VectorStoreIndex, SimpleDirectoryReader\n",
    "from llama_index.llms.huggingface import HuggingFaceLLM\n",
    "from llama_index.core import Settings\n",
    "from llama_index.embeddings.huggingface import HuggingFaceEmbedding\n",
    "from llama_index.core import StorageContext, load_index_from_storage\n",
    "from llama_index.core import PromptTemplate\n",
    " \n",
    "system_prompt = \"\"\"<|SYSTEM|># StableLM Tuned (Alpha version)\n",
    "- StableLM is a helpful and harmless open-source AI language model developed by StabilityAI.\n",
    "- StableLM is excited to be able to help the user, but will refuse to do anything that could be considered harmful to the user.\n",
    "- StableLM is more than just an information source, StableLM is also able to write poetry, short stories, and make jokes.\n",
    "- StableLM will refuse to participate in anything that could harm a human.\n",
    "\"\"\"\n",
    " \n",
    "# This will wrap the default prompts that are internal to llama-index\n",
    "query_wrapper_prompt = PromptTemplate(\"<|USER|>{query_str}<|ASSISTANT|>\")\n",
    " \n",
    "import torch\n",
    "\n",
    "llm = ChatGroq(\n",
    "    temperature=0, \n",
    "    groq_api_key='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', \n",
    "    model_name=\"llama-3.1-70b-versatile\"\n",
    ")\n",
    "# response = llm.invoke(\"The first person to land on moon was ...\")\n",
    "# print(response.content)\n",
    " \n",
    "Settings.llm = llm\n",
    "Settings.chunk_size = 1024\n",
    " \n",
    "Settings.embed_model = HuggingFaceEmbedding(model_name=\"BAAI/bge-small-en-v1.5\")\n",
    " \n",
    " \n",
    "# Load documents and create VectorStoreIndex\n",
    "documents = SimpleDirectoryReader(\"data\").load_data()\n",
    "index = VectorStoreIndex.from_documents(documents, embedding_model=\"local\")\n",
    " \n",
    " \n",
    "query_engine = index.as_query_engine()\n",
    "response = query_engine.query(\"What did the author do growing up?\")\n",
    "print(response)"
   ]
  },
  {
   "cell_type": "code",
   "execution_count": 8,
   "metadata": {},
   "outputs": [
    {
     "data": {
      "text/plain": [
       "1212"
      ]
     },
     "execution_count": 8,
     "metadata": {},
     "output_type": "execute_result"
    }
   ],
   "source": [
    "type(documents)\n",
    "len(documents)"
   ]
  },
  {
   "cell_type": "code",
   "execution_count": 9,
   "metadata": {},
   "outputs": [
    {
     "name": "stderr",
     "output_type": "stream",
     "text": [
      "Batches: 100%|██████████| 1/1 [00:00<00:00, 14.94it/s]\n"
     ]
    },
    {
     "name": "stdout",
     "output_type": "stream",
     "text": [
      "INFO:httpx:HTTP Request: POST https://api.groq.com/openai/v1/chat/completions \"HTTP/1.1 200 OK\"\n",
      "HTTP Request: POST https://api.groq.com/openai/v1/chat/completions \"HTTP/1.1 200 OK\"\n",
      "HTTP Request: POST https://api.groq.com/openai/v1/chat/completions \"HTTP/1.1 200 OK\"\n",
      "Empty Response\n"
     ]
    }
   ],
   "source": [
    "response = query_engine.query(\"What is attention is all you need?\")\n",
    "print(response)"
   ]
  },
  {
   "cell_type": "code",
   "execution_count": 10,
   "metadata": {},
   "outputs": [
    {
     "name": "stderr",
     "output_type": "stream",
     "text": [
      "Batches: 100%|██████████| 1/1 [00:00<00:00, 15.32it/s]\n"
     ]
    },
    {
     "name": "stdout",
     "output_type": "stream",
     "text": [
      "INFO:httpx:HTTP Request: POST https://api.groq.com/openai/v1/chat/completions \"HTTP/1.1 200 OK\"\n",
      "HTTP Request: POST https://api.groq.com/openai/v1/chat/completions \"HTTP/1.1 200 OK\"\n",
      "HTTP Request: POST https://api.groq.com/openai/v1/chat/completions \"HTTP/1.1 200 OK\"\n",
      "Based on the provided information, here are a few test case ideas for the RRC spec 138331:\n",
      "\n",
      "1. Test Case: T311 Expiry\n",
      "- Preconditions: UE is in RRC_CONNECTED state, T311 timer is running.\n",
      "- Steps: \n",
      "  1. Start T311 timer.\n",
      "  2. Wait for T311 timer to expire.\n",
      "  3. Verify UE actions upon T311 expiry.\n",
      "- Expected Result: UE should perform the required actions upon T311 expiry as specified in the RRC spec.\n",
      "\n",
      "2. Test Case: RRC Connection Release\n",
      "- Preconditions: UE is in RRC_CONNECTED state.\n",
      "- Steps: \n",
      "  1. Send RRCRelease message to the UE.\n",
      "  2. Verify UE actions upon receiving RRCRelease message.\n",
      "  3. Verify UE transitions to RRC_IDLE state.\n",
      "- Expected Result: UE should release the RRC connection and transition to RRC_IDLE state.\n",
      "\n",
      "3. Test Case: Radio Link Failure Detection\n",
      "- Preconditions: UE is in RRC_CONNECTED state, physical layer problems are detected.\n",
      "- Steps: \n",
      "  1. Simulate physical layer problems.\n",
      "  2. Verify UE detects radio link failure.\n",
      "  3. Verify UE performs the required actions upon radio link failure detection.\n",
      "- Expected Result: UE should detect radio link failure and perform the required actions as specified in the RRC spec.\n",
      "\n",
      "4. Test Case: UE Information Request\n",
      "- Preconditions: UE is in RRC_CONNECTED state.\n",
      "- Steps: \n",
      "  1. Send UEInformationRequest message to the UE.\n",
      "  2. Verify UE actions upon receiving UEInformationRequest message.\n",
      "  3. Verify UE sends the required information in response to the request.\n",
      "- Expected Result: UE should send the required information in response to the UEInformationRequest message.\n",
      "\n",
      "5. Test Case: T320 Expiry\n",
      "- Preconditions: UE is in RRC_IDLE state, T320 timer is running.\n",
      "- Steps: \n",
      "  1. Start T320 timer.\n",
      "  2. Wait for T320 timer to expire.\n",
      "  3. Verify UE actions upon T320 expiry.\n",
      "- Expected Result: UE should perform the required actions upon T320 expiry as specified in the RRC spec.\n",
      "\n",
      "These test cases cover various scenarios and procedures specified in the RRC spec 138331. However, it is recommended to create more test cases to ensure comprehensive testing of the RRC spec.\n"
     ]
    }
   ],
   "source": [
    "response = query_engine.query(\"please help to write few test cases from RRC spec 138331?\")\n",
    "print(response)"
   ]
  },
  {
   "cell_type": "code",
   "execution_count": 11,
   "metadata": {},
   "outputs": [
    {
     "name": "stderr",
     "output_type": "stream",
     "text": [
      "Batches: 100%|██████████| 1/1 [00:00<00:00, 23.69it/s]\n"
     ]
    },
    {
     "name": "stdout",
     "output_type": "stream",
     "text": [
      "INFO:httpx:HTTP Request: POST https://api.groq.com/openai/v1/chat/completions \"HTTP/1.1 200 OK\"\n",
      "HTTP Request: POST https://api.groq.com/openai/v1/chat/completions \"HTTP/1.1 200 OK\"\n",
      "HTTP Request: POST https://api.groq.com/openai/v1/chat/completions \"HTTP/1.1 200 OK\"\n",
      "The IEs present in the RRCReconfiguration message are:\n",
      "\n",
      "1. masterCellGroup\n",
      "2. fullConfig\n",
      "3. dedicatedNAS-MessageList\n",
      "4. masterKeyUpdate\n",
      "5. dedicatedSIB1-Delivery\n",
      "6. dedicatedSystemInformationDelivery\n",
      "7. otherConfig\n",
      "8. mrdc-SecondaryCellGroupConfig\n",
      "9. radioBearerConfig2\n",
      "10. sk-Counter\n",
      "11. otherConfig-v1540\n",
      "12. otherConfig-v1560\n",
      "13. otherConfig-v1610\n",
      "14. otherConfig-v1700\n",
      "15. bap-Config-r16\n",
      "16. iab-IP-AddressConfigurationList-r16\n",
      "17. conditionalReconfiguration-r16\n",
      "18. daps-SourceRelease-r16\n",
      "19. t316-r16\n",
      "20. needForGapsConfigNR-r16\n",
      "21. onDemandSIB-Request-r16\n",
      "22. dedicatedPosSysInfoDelivery-r16\n",
      "23. sl-ConfigDedicatedNR-r16\n",
      "24. sl-ConfigDedicatedEUTRA-Info-r16\n",
      "25. targetCellSMTC-SCG-r16\n",
      "26. ul-GapFR2-Config-r17\n",
      "27. sl-L2RelayUEConfig-r17\n",
      "28. sl-L2RemoteUEConfig-r17\n",
      "29. dedicatedPagingDelivery-r17\n",
      "30. needForNCSG-ConfigNR-r17\n",
      "31. needForNCSG-ConfigEUTRA-r17\n"
     ]
    }
   ],
   "source": [
    "response = query_engine.query(\"What are all the IE's present in RRCReconfiguration message?\")\n",
    "print(response)"
   ]
  },
  {
   "cell_type": "code",
   "execution_count": 12,
   "metadata": {},
   "outputs": [
    {
     "name": "stderr",
     "output_type": "stream",
     "text": [
      "Batches: 100%|██████████| 1/1 [00:00<00:00, 12.90it/s]\n"
     ]
    },
    {
     "name": "stdout",
     "output_type": "stream",
     "text": [
      "INFO:httpx:HTTP Request: POST https://api.groq.com/openai/v1/chat/completions \"HTTP/1.1 200 OK\"\n",
      "HTTP Request: POST https://api.groq.com/openai/v1/chat/completions \"HTTP/1.1 200 OK\"\n",
      "HTTP Request: POST https://api.groq.com/openai/v1/chat/completions \"HTTP/1.1 200 OK\"\n",
      "Based on the provided context information, here are 10 basic test cases that can be written for RRCReconfigurations:\n",
      "\n",
      "1. **Test Case: Successful RRC Reconfiguration with Full Config**\n",
      "   - Preconditions: UE is in connected mode, RRC connection is established.\n",
      "   - Steps: Send RRCReconfiguration message with fullConfig set to true, verify that UE successfully reconfigures and sends RRCReconfigurationComplete message.\n",
      "   - Expected Result: UE successfully reconfigures and sends RRCReconfigurationComplete message.\n",
      "\n",
      "2. **Test Case: RRC Reconfiguration with Dedicated NAS Message**\n",
      "   - Preconditions: UE is in connected mode, RRC connection is established.\n",
      "   - Steps: Send RRCReconfiguration message with dedicatedNAS-MessageList, verify that UE successfully reconfigures and sends RRCReconfigurationComplete message.\n",
      "   - Expected Result: UE successfully reconfigures and sends RRCReconfigurationComplete message.\n",
      "\n",
      "3. **Test Case: RRC Reconfiguration with Master Cell Group Update**\n",
      "   - Preconditions: UE is in connected mode, RRC connection is established.\n",
      "   - Steps: Send RRCReconfiguration message with masterCellGroup update, verify that UE successfully reconfigures and sends RRCReconfigurationComplete message.\n",
      "   - Expected Result: UE successfully reconfigures and sends RRCReconfigurationComplete message.\n",
      "\n",
      "4. **Test Case: RRC Reconfiguration with Secondary Cell Group Configuration**\n",
      "   - Preconditions: UE is in connected mode, RRC connection is established.\n",
      "   - Steps: Send RRCReconfiguration message with mrdc-SecondaryCellGroupConfig, verify that UE successfully reconfigures and sends RRCReconfigurationComplete message.\n",
      "   - Expected Result: UE successfully reconfigures and sends RRCReconfigurationComplete message.\n",
      "\n",
      "5. **Test Case: RRC Reconfiguration with Radio Bearer Configuration**\n",
      "   - Preconditions: UE is in connected mode, RRC connection is established.\n",
      "   - Steps: Send RRCReconfiguration message with radioBearerConfig2, verify that UE successfully reconfigures and sends RRCReconfigurationComplete message.\n",
      "   - Expected Result: UE successfully reconfigures and sends RRCReconfigurationComplete message.\n",
      "\n",
      "6. **Test Case: RRC Reconfiguration with SK Counter Update**\n",
      "   - Preconditions: UE is in connected mode, RRC connection is established.\n",
      "   - Steps: Send RRCReconfiguration message with sk-Counter update, verify that UE successfully reconfigures and sends RRCReconfigurationComplete message.\n",
      "   - Expected Result: UE successfully reconfigures and sends RRCReconfigurationComplete message.\n",
      "\n",
      "7. **Test Case: RRC Reconfiguration with BAP Configuration**\n",
      "   - Preconditions: UE is in connected mode, RRC connection is established.\n",
      "   - Steps: Send RRCReconfiguration message with bap-Config-r16, verify that UE successfully reconfigures and sends RRCReconfigurationComplete message.\n",
      "   - Expected Result: UE successfully reconfigures and sends RRCReconfigurationComplete message.\n",
      "\n",
      "8. **Test Case: RRC Reconfiguration with IAB IP Address Configuration**\n",
      "   - Preconditions: UE is in connected mode, RRC connection is established.\n",
      "   - Steps: Send RRCReconfiguration message with iab-IP-AddressConfigurationList-r16, verify that UE successfully reconfigures and sends RRCReconfigurationComplete message.\n",
      "   - Expected Result: UE successfully reconfigures and sends RRCReconfigurationComplete message.\n",
      "\n",
      "9. **Test Case: RRC Reconfiguration with Conditional Reconfiguration**\n",
      "   - Preconditions: UE is in connected mode, RRC connection is established.\n",
      "   - Steps: Send RRCReconfiguration message with conditionalReconfiguration-r16, verify that UE successfully reconfigures and sends RRCReconfigurationComplete message.\n",
      "   - Expected Result: UE successfully reconfigures and sends RRCReconfigurationComplete message.\n",
      "\n",
      "10. **Test Case: RRC Reconfiguration with UL Gap FR2 Configuration**\n",
      "    - Preconditions: UE is in connected mode, RRC connection is established.\n",
      "    - Steps: Send RRCReconfiguration message with ul-GapFR2-Config-r17, verify that UE successfully reconfigures and sends RRCReconfigurationComplete message.\n",
      "    - Expected Result: UE successfully reconfigures and sends RRCReconfigurationComplete message.\n",
      "\n",
      "These test cases cover various scenarios for RRC reconfiguration, including full config, dedicated NAS message, master cell group update, secondary cell group configuration, radio bearer configuration, SK counter update, BAP configuration, IAB IP address configuration, conditional reconfiguration, and UL gap FR2 configuration.\n"
     ]
    }
   ],
   "source": [
    "response = query_engine.query(\"What are most basic test cases can be written for RRCReconfigurations?, please help to write atleast 10 Testcases\")\n",
    "print(response)"
   ]
  },
  {
   "cell_type": "code",
   "execution_count": 13,
   "metadata": {},
   "outputs": [
    {
     "name": "stderr",
     "output_type": "stream",
     "text": [
      "Batches: 100%|██████████| 1/1 [00:00<00:00, 16.02it/s]\n"
     ]
    },
    {
     "name": "stdout",
     "output_type": "stream",
     "text": [
      "INFO:httpx:HTTP Request: POST https://api.groq.com/openai/v1/chat/completions \"HTTP/1.1 200 OK\"\n",
      "HTTP Request: POST https://api.groq.com/openai/v1/chat/completions \"HTTP/1.1 200 OK\"\n",
      "HTTP Request: POST https://api.groq.com/openai/v1/chat/completions \"HTTP/1.1 200 OK\"\n",
      "The attach call flow with respect to RRC messages is as follows:\n",
      "\n",
      "1. The UE initiates the attach procedure by sending an RRCSetupComplete message to the eNodeB.\n",
      "2. The eNodeB responds with an RRCConnectionSetup message, which includes the RRCConnectionSetupComplete message.\n",
      "3. The UE sends an RRCConnectionSetupComplete message to the eNodeB, which includes the UE's capabilities and other information.\n",
      "4. The eNodeB sends an RRCResumeComplete message to the UE, which includes the UE's dedicated NAS message and other information.\n",
      "\n",
      "Note: The RRCResumeComplete message is used to resume an existing RRC connection, rather than establishing a new one. If the UE is attaching for the first time, the RRCConnectionSetup and RRCConnectionSetupComplete messages would be used instead.\n",
      "\n",
      "Here is a high-level overview of the attach call flow:\n",
      "\n",
      "UE -> eNodeB: RRCSetupComplete\n",
      "eNodeB -> UE: RRCConnectionSetup\n",
      "UE -> eNodeB: RRCConnectionSetupComplete\n",
      "eNodeB -> UE: RRCResumeComplete (or RRCConnectionSetupComplete)\n",
      "\n",
      "Please note that this is a simplified overview and actual call flow may vary depending on the specific use case and network configuration.\n"
     ]
    }
   ],
   "source": [
    "response = query_engine.query(\"Give me attach call flow w.r.t RRC messages?\")\n",
    "print(response)"
   ]
  },
  {
   "cell_type": "code",
   "execution_count": 14,
   "metadata": {},
   "outputs": [
    {
     "name": "stdout",
     "output_type": "stream",
     "text": [
      "INFO:httpx:HTTP Request: POST https://api.groq.com/openai/v1/chat/completions \"HTTP/1.1 200 OK\"\n",
      "HTTP Request: POST https://api.groq.com/openai/v1/chat/completions \"HTTP/1.1 200 OK\"\n",
      "HTTP Request: POST https://api.groq.com/openai/v1/chat/completions \"HTTP/1.1 200 OK\"\n"
     ]
    },
    {
     "data": {
      "text/plain": [
       "AIMessage(content=\"नमस्ते (Namaste), मैं ठीक हूँ, धन्यवाद (Main theek hoon, dhanyavaad). आप कैसे हैं? (Aap kaise hain?)\\n\\nTranslation: Hello, I'm fine, thank you. How are you?\", additional_kwargs={}, response_metadata={'token_usage': {'completion_tokens': 62, 'prompt_tokens': 56, 'total_tokens': 118, 'completion_time': 0.248720509, 'prompt_time': 0.014776071, 'queue_time': 0.005052757, 'total_time': 0.26349658}, 'model_name': 'llama-3.1-70b-versatile', 'system_fingerprint': 'fp_b3ae7e594e', 'finish_reason': 'stop', 'logprobs': None}, id='run-d24fce00-7591-4cfb-9faf-2de1d1157df6-0', usage_metadata={'input_tokens': 56, 'output_tokens': 62, 'total_tokens': 118})"
      ]
     },
     "execution_count": 14,
     "metadata": {},
     "output_type": "execute_result"
    }
   ],
   "source": [
    "from langchain_core.prompts import ChatPromptTemplate\n",
    "\n",
    "prompt = ChatPromptTemplate.from_messages(\n",
    "    [\n",
    "        (\n",
    "            \"system\",\n",
    "            \"You are a helpful assistant that translates {input_language} to {output_language}.\",\n",
    "        ),\n",
    "        (\"human\", \"{input}\"),\n",
    "    ]\n",
    ")\n",
    "\n",
    "chain = prompt | llm\n",
    "chain.invoke(\n",
    "    {\n",
    "        \"input_language\": \"English\",\n",
    "        \"output_language\": \"Hindi\",\n",
    "        \"input\": \"Hello Ravi, how are you doing today?\",\n",
    "    }\n",
    ")"
   ]
  },
  {
   "cell_type": "code",
   "execution_count": 15,
   "metadata": {},
   "outputs": [
    {
     "name": "stdout",
     "output_type": "stream",
     "text": [
      "INFO:httpx:HTTP Request: POST https://api.groq.com/openai/v1/chat/completions \"HTTP/1.1 200 OK\"\n",
      "HTTP Request: POST https://api.groq.com/openai/v1/chat/completions \"HTTP/1.1 200 OK\"\n",
      "HTTP Request: POST https://api.groq.com/openai/v1/chat/completions \"HTTP/1.1 200 OK\"\n"
     ]
    },
    {
     "data": {
      "text/plain": [
       "AIMessage(content=\"Here's a simplified attach call flow with respect to RRC (Radio Resource Control) messages:\\n\\n**Step 1: Initial Access**\\n\\n* UE (User Equipment) sends an RRC Connection Request message to the eNodeB (base station).\\n* The RRC Connection Request message includes the UE's identity (e.g., IMSI or IMEI) and the type of service requested (e.g., voice, data, or SMS).\\n\\n**Step 2: RRC Connection Setup**\\n\\n* eNodeB responds with an RRC Connection Setup message, which includes:\\n\\t+ A unique UE ID (e.g., C-RNTI)\\n\\t+ A list of supported RRC states (e.g., RRC_IDLE, RRC_CONNECTED)\\n\\t+ A list of supported RRC procedures (e.g., handover, cell reselection)\\n* UE receives the RRC Connection Setup message and sets up the RRC connection.\\n\\n**Step 3: RRC Connection Establishment**\\n\\n* UE sends an RRC Connection Establishment Complete message to the eNodeB, indicating that the RRC connection has been established.\\n* The RRC Connection Establishment Complete message includes the UE's capabilities (e.g., supported bands, modulation schemes).\\n\\n**Step 4: Attach Request**\\n\\n* UE sends an Attach Request message to the eNodeB, which includes:\\n\\t+ The UE's identity (e.g., IMSI or IMEI)\\n\\t+ The UE's location (e.g., cell ID, location area code)\\n\\t+ The type of service requested (e.g., voice, data, or SMS)\\n* The Attach Request message is sent over the established RRC connection.\\n\\n**Step 5: Authentication and Authorization**\\n\\n* eNodeB sends an Authentication Request message to the UE, which includes a random challenge.\\n* UE responds with an Authentication Response message, which includes the UE's authentication credentials (e.g., SIM card information).\\n* eNodeB verifies the UE's authentication credentials and sends an Authentication Complete message to the UE.\\n\\n**Step 6: Attach Accept**\\n\\n* eNodeB sends an Attach Accept message to the UE, which includes:\\n\\t+ The UE's assigned IP address\\n\\t+ The UE's assigned APN (Access Point Name)\\n\\t+ The UE's assigned QoS (Quality of Service) parameters\\n* The Attach Accept message is sent over the established RRC connection.\\n\\n**Step 7: RRC Connection Reconfiguration**\\n\\n* UE sends an RRC Connection Reconfiguration Complete message to the eNodeB, indicating that the UE has completed the attach procedure.\\n* The RRC Connection Reconfiguration Complete message includes the UE's updated RRC configuration.\\n\\nThe attach call flow is now complete, and the UE is attached to the network and ready to send and receive data.\\n\\nHere's a simplified diagram of the attach call flow:\\n```\\nUE -> eNodeB: RRC Connection Request\\neNodeB -> UE: RRC Connection Setup\\nUE -> eNodeB: RRC Connection Establishment Complete\\nUE -> eNodeB: Attach Request\\neNodeB -> UE: Authentication Request\\nUE -> eNodeB: Authentication Response\\neNodeB -> UE: Authentication Complete\\neNodeB -> UE: Attach Accept\\nUE -> eNodeB: RRC Connection Reconfiguration Complete\\n```\\nNote that this is a simplified call flow and may not include all the possible RRC messages and procedures.\", additional_kwargs={}, response_metadata={'token_usage': {'completion_tokens': 691, 'prompt_tokens': 58, 'total_tokens': 749, 'completion_time': 2.769217936, 'prompt_time': 0.013729104, 'queue_time': 0.005235533999999998, 'total_time': 2.78294704}, 'model_name': 'llama-3.1-70b-versatile', 'system_fingerprint': 'fp_9260b4bb2e', 'finish_reason': 'stop', 'logprobs': None}, id='run-fa22d93a-1953-4541-865e-07b525664d34-0', usage_metadata={'input_tokens': 58, 'output_tokens': 691, 'total_tokens': 749})"
      ]
     },
     "execution_count": 15,
     "metadata": {},
     "output_type": "execute_result"
    }
   ],
   "source": [
    "chain.invoke(\n",
    "    {   \n",
    "        \"input_language\": \"English\",\n",
    "        \"output_language\": \"English\",\n",
    "        \"input\": \"Give me attach call flow w.r.t RRC messages?\",\n",
    "    }\n",
    ")"
   ]
  },
  {
   "cell_type": "code",
   "execution_count": null,
   "metadata": {},
   "outputs": [],
   "source": []
  }
 ],
 "metadata": {
  "kernelspec": {
   "display_name": "ragenv",
   "language": "python",
   "name": "python3"
  },
  "language_info": {
   "codemirror_mode": {
    "name": "ipython",
    "version": 3
   },
   "file_extension": ".py",
   "mimetype": "text/x-python",
   "name": "python",
   "nbconvert_exporter": "python",
   "pygments_lexer": "ipython3",
   "version": "3.10.14"
  }
 },
 "nbformat": 4,
 "nbformat_minor": 2
}
